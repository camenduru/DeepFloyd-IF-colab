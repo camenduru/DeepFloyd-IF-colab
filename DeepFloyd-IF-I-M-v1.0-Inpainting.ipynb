{
  "cells": [
    {
      "cell_type": "markdown",
      "metadata": {
        "id": "view-in-github"
      },
      "source": [
        "[![Open In Colab](https://colab.research.google.com/assets/colab-badge.svg)](https://colab.research.google.com/github/camenduru/DeepFloyd-IF-colab/blob/main/DeepFloyd-IF-I-M-v1.0-Inpainting.ipynb)"
      ]
    },
    {
      "cell_type": "code",
      "execution_count": null,
      "metadata": {
        "id": "DA4ASNpIvTzd"
      },
      "outputs": [],
      "source": [
        "# https://colab.research.google.com/github/huggingface/notebooks/blob/main/diffusers/deepfloyd_if_free_tier_google_colab.ipynb modified\n",
        "!pip install -q -U diffusers~=0.16 transformers~=4.28 safetensors~=0.3 sentencepiece~=0.1 accelerate~=0.18 bitsandbytes~=0.38 torch~=2.0 huggingface_hub"
      ]
    },
    {
      "cell_type": "code",
      "execution_count": null,
      "metadata": {
        "id": "69qUFyBkwKs0"
      },
      "outputs": [],
      "source": [
        "from huggingface_hub import login\n",
        "login()"
      ]
    },
    {
      "cell_type": "code",
      "execution_count": null,
      "metadata": {},
      "outputs": [],
      "source": [
        "import requests\n",
        "\n",
        "url = \"https://i.imgflip.com/5j6x75.jpg\"\n",
        "response = requests.get(url)\n",
        "\n",
        "from PIL import Image\n",
        "from io import BytesIO\n",
        "\n",
        "original_image = Image.open(BytesIO(response.content)).convert(\"RGB\")\n",
        "original_image = original_image.resize((512, 768))\n",
        "\n",
        "from huggingface_hub import hf_hub_download\n",
        "\n",
        "mask_image = hf_hub_download(\"diffusers/docs-images\", repo_type=\"dataset\", filename=\"if/sign_man_mask.png\")\n",
        "mask_image = Image.open(mask_image)\n",
        "\n",
        "from PIL import Image\n",
        "import numpy as np\n",
        "\n",
        "height = 64\n",
        "width = 64\n",
        "\n",
        "example_mask = np.zeros((height, width), dtype=np.int8)\n",
        "\n",
        "# Set masked pixels to 255\n",
        "example_mask[20:30, 30:40] = 255\n",
        "\n",
        "# Make sure to create the image in mode 'L'\n",
        "# meaning single channel grayscale\n",
        "example_mask = Image.fromarray(example_mask, mode='L')\n",
        "\n",
        "\n",
        "from transformers import T5EncoderModel\n",
        "\n",
        "text_encoder = T5EncoderModel.from_pretrained(\n",
        "    \"DeepFloyd/IF-I-XL-v1.0\",\n",
        "    subfolder=\"text_encoder\", \n",
        "    device_map=\"auto\", \n",
        "    load_in_8bit=True, \n",
        "    variant=\"8bit\"\n",
        ")\n",
        "\n",
        "from diffusers import IFInpaintingPipeline\n",
        "\n",
        "pipe = IFInpaintingPipeline.from_pretrained(\n",
        "    \"DeepFloyd/IF-I-XL-v1.0\", \n",
        "    text_encoder=text_encoder, \n",
        "    unet=None, \n",
        "    device_map=\"auto\"\n",
        ")\n",
        "\n",
        "prompt = 'the text, \"just stack more layers\"'\n",
        "\n",
        "prompt_embeds, negative_embeds = pipe.encode_prompt(prompt)\n",
        "\n",
        "del text_encoder\n",
        "del pipe\n",
        "flush()\n",
        "\n",
        "pipe = IFInpaintingPipeline.from_pretrained(\n",
        "    \"DeepFloyd/IF-I-XL-v1.0\", \n",
        "    text_encoder=None, \n",
        "    variant=\"fp16\", \n",
        "    torch_dtype=torch.float16, \n",
        "    device_map=\"auto\"\n",
        ")\n",
        "\n",
        "image = pipe(\n",
        "    image=original_image,\n",
        "    mask_image=mask_image,\n",
        "    prompt_embeds=prompt_embeds,\n",
        "    negative_prompt_embeds=negative_embeds, \n",
        "    output_type=\"pt\",\n",
        "    generator=generator,\n",
        ").images\n",
        "\n",
        "pil_image = pt_to_pil(image)\n",
        "pipe.watermarker.apply_watermark(pil_image, pipe.unet.config.sample_size)\n",
        "\n",
        "pil_image[0]"
      ]
    },
    {
      "cell_type": "code",
      "execution_count": null,
      "metadata": {},
      "outputs": [],
      "source": [
        "del pipe\n",
        "flush()\n",
        "\n",
        "from diffusers import IFInpaintingSuperResolutionPipeline\n",
        "\n",
        "pipe = IFInpaintingSuperResolutionPipeline.from_pretrained(\n",
        "    \"DeepFloyd/IF-II-L-v1.0\", \n",
        "    text_encoder=None, \n",
        "    variant=\"fp16\", \n",
        "    torch_dtype=torch.float16, \n",
        "    device_map=\"auto\"\n",
        ")\n",
        "\n",
        "image = pipe(\n",
        "    image=image,\n",
        "    original_image=original_image,\n",
        "    mask_image=mask_image,\n",
        "    prompt_embeds=prompt_embeds,\n",
        "    negative_prompt_embeds=negative_embeds, \n",
        "    generator=generator,\n",
        ").images[0]\n",
        "image"
      ]
    }
  ],
  "metadata": {
    "accelerator": "GPU",
    "colab": {
      "provenance": []
    },
    "gpuClass": "standard",
    "kernelspec": {
      "display_name": "Python 3",
      "name": "python3"
    },
    "language_info": {
      "name": "python"
    }
  },
  "nbformat": 4,
  "nbformat_minor": 0
}
