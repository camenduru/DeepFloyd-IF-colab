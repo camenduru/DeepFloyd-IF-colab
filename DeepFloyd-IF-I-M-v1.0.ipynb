{
  "nbformat": 4,
  "nbformat_minor": 0,
  "metadata": {
    "colab": {
      "provenance": []
    },
    "kernelspec": {
      "name": "python3",
      "display_name": "Python 3"
    },
    "language_info": {
      "name": "python"
    },
    "accelerator": "GPU",
    "gpuClass": "standard"
  },
  "cells": [
    {
      "cell_type": "code",
      "execution_count": null,
      "metadata": {
        "id": "DA4ASNpIvTzd"
      },
      "outputs": [],
      "source": [
        "!apt -y install -qq aria2\n",
        "!pip install -q torch==1.13.1+cu116 torchvision==0.14.1+cu116 torchaudio==0.13.1 torchtext==0.14.1 torchdata==0.5.1 --extra-index-url https://download.pytorch.org/whl/cu116 -U\n",
        "!pip install -q xformers==0.0.16 triton==2.0.0 -U\n",
        "\n",
        "!pip install deepfloyd_if==1.0.0\n",
        "!pip install git+https://github.com/openai/CLIP.git --no-deps\n",
        "!pip install gradio"
      ]
    },
    {
      "cell_type": "code",
      "source": [
        "!python IF/gradio/if_demo.py"
      ],
      "metadata": {
        "id": "69qUFyBkwKs0"
      },
      "execution_count": null,
      "outputs": []
    }
  ]
}