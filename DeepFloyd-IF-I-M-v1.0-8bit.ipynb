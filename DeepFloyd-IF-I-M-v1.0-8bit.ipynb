{
  "cells": [
    {
      "cell_type": "markdown",
      "metadata": {
        "id": "view-in-github"
      },
      "source": [
        "[![Open In Colab](https://colab.research.google.com/assets/colab-badge.svg)](https://colab.research.google.com/github/camenduru/DeepFloyd-IF-colab/blob/main/DeepFloyd-IF-I-M-v1.0.ipynb)"
      ]
    },
    {
      "cell_type": "code",
      "execution_count": null,
      "metadata": {
        "id": "DA4ASNpIvTzd"
      },
      "outputs": [],
      "source": [
        "# https://huggingface.co/spaces/DeepFloyd/IF/blob/main/app.py modified\n",
        "\n",
        "!pip install -q huggingface_hub\n",
        "from huggingface_hub import login\n",
        "login()"
      ]
    },
    {
      "cell_type": "code",
      "execution_count": null,
      "metadata": {
        "id": "69qUFyBkwKs0"
      },
      "outputs": [],
      "source": [
        "!git clone -b 8bit https://github.com/camenduru/DeepFloyd-IF-hf\n",
        "%cd /content/DeepFloyd-IF-hf\n",
        "!pip install -r requirements.txt\n",
        "!python app.py"
      ]
    }
  ],
  "metadata": {
    "accelerator": "GPU",
    "colab": {
      "provenance": []
    },
    "gpuClass": "standard",
    "kernelspec": {
      "display_name": "Python 3",
      "name": "python3"
    },
    "language_info": {
      "name": "python"
    }
  },
  "nbformat": 4,
  "nbformat_minor": 0
}
